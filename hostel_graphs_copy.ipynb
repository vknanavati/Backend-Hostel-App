{
 "cells": [
  {
   "cell_type": "code",
   "execution_count": null,
   "metadata": {},
   "outputs": [],
   "source": [
    "import pandas as pd\n",
    "import matplotlib.pyplot as plt\n",
    "import seaborn as sns\n",
    "\n",
    "pd.set_option('display.max_rows', None)\n",
    "df = pd.read_csv(\"Hostel_City_Ratings.csv\", index_col=[0])\n",
    "df.head()\n",
    "df_copy = df.copy()\n",
    "\n",
    "df_copy"
   ]
  },
  {
   "cell_type": "code",
   "execution_count": null,
   "metadata": {},
   "outputs": [],
   "source": [
    "df_test = df_copy.set_axis(['Security', 'Location', 'Staff', 'Atmosphere', 'Cleanliness', 'Value', 'Facilities'], axis=0, copy=True)"
   ]
  },
  {
   "cell_type": "code",
   "execution_count": null,
   "metadata": {},
   "outputs": [],
   "source": [
    "df_test.loc['Average']= df.mean()\n",
    "df_test"
   ]
  },
  {
   "cell_type": "code",
   "execution_count": null,
   "metadata": {},
   "outputs": [],
   "source": [
    "df_test = df_test.T.reset_index()\n",
    "df_test = df_test.set_axis(['Name', 'Security', 'Location', 'Staff', 'Atmosphere', 'Cleanliness', 'Value', 'Facilities', 'Average'], axis=1, copy=True)\n",
    "df_test"
   ]
  },
  {
   "cell_type": "code",
   "execution_count": null,
   "metadata": {},
   "outputs": [],
   "source": [
    "avg_graph = df_test.iloc[:, [0,8]].head(10)\n",
    "avg_graph = avg_graph.sort_values('Average', ascending=False)\n",
    "avg_graph"
   ]
  },
  {
   "cell_type": "code",
   "execution_count": null,
   "metadata": {},
   "outputs": [],
   "source": [
    "top_ten = avg_graph.sort_values(by= 'Average', ascending=False)[:10]\n",
    "\n",
    "fig_height = 2 + 0.5 * len(avg_graph)\n",
    "fig, ax = plt.subplots(figsize=(10,fig_height))\n",
    "\n",
    "ax.set_xlim(0,10)\n",
    "ax.set_xticks(range(0,11))\n",
    "\n",
    "ax.set_xticklabels(ax.get_xticks(), fontsize=12)\n",
    "ax.set_yticklabels(ax.get_yticklabels(), fontsize=12)\n",
    "\n",
    "sns.barplot(y=top_ten.Name, x=top_ten.Average, width=0.4)\n",
    "\n",
    "plt.title('Top Hostels', fontsize=16, fontweight='bold')\n",
    "\n",
    "plt.xlabel('Average Rating', fontsize=14, fontweight='bold')\n",
    "plt.ylabel('Hostel Name', fontsize=14, fontweight='bold')\n",
    "\n",
    "plt.savefig('static/graph1.png', bbox_inches='tight')\n",
    "\n",
    "plt.show()\n",
    "\n",
    "plt.close()"
   ]
  }
 ],
 "metadata": {
  "language_info": {
   "name": "python"
  }
 },
 "nbformat": 4,
 "nbformat_minor": 2
}
